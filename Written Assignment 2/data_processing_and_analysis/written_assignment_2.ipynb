{
  "nbformat": 4,
  "nbformat_minor": 0,
  "metadata": {
    "colab": {
      "provenance": []
    },
    "kernelspec": {
      "name": "python3",
      "display_name": "Python 3"
    },
    "language_info": {
      "name": "python"
    }
  },
  "cells": [
    {
      "cell_type": "markdown",
      "source": [
        "# Cleaning"
      ],
      "metadata": {
        "id": "MlqQb5QjdEi3"
      }
    },
    {
      "cell_type": "markdown",
      "source": [
        "Removing rows not including month and year data."
      ],
      "metadata": {
        "id": "dQw9lsMCdILF"
      }
    },
    {
      "cell_type": "code",
      "source": [
        "import pandas as pd\n",
        "import matplotlib.pyplot as plt\n",
        "from scipy.stats import chisquare\n",
        "from scipy.stats import chi2_contingency"
      ],
      "metadata": {
        "id": "wrsIW5pOhPHW"
      },
      "execution_count": 1,
      "outputs": []
    },
    {
      "cell_type": "code",
      "execution_count": 2,
      "metadata": {
        "id": "v1vobGDSXYWn"
      },
      "outputs": [],
      "source": [
        "df = pd.read_excel('data_cleaned.xlsx')\n",
        "mask = (\n",
        "  df['year_start'].notna() &\n",
        "  (df['year_start'] != 0) &\n",
        "  df['month_start'].notna() &\n",
        "  (df['month_start'] != 0)\n",
        ")\n",
        "\n",
        "df_filtered = df[mask].copy()\n",
        "df_filtered = df_filtered[['identifier', 'year_start', 'month_start', 'day_start', 'ce_or_bce']]"
      ]
    },
    {
      "cell_type": "markdown",
      "source": [
        "# Analysis"
      ],
      "metadata": {
        "id": "DtXw0Kh9gDvd"
      }
    },
    {
      "cell_type": "markdown",
      "source": [
        "We test the first hypothesis by first aggregating the number of receipts from each month to examine the distribution of poll tax payments throughout the year. We then perform a Chi-square goodness-of-fit test. The null hypothesis states that the receipts are uniformly distributed across the months of the year, implying that the poll tax was not paid during any specific period. The alternative hypothesis is that the receipts are not uniformly distributed but instead cluster around certain periods.\n",
        "\n",
        "We set the alpha level for rejecting the null hypothesis at 0.05.\n",
        "\n",
        "To begin, we count the number of receipts in each month and visualize the distribution using a bar chart."
      ],
      "metadata": {
        "id": "U7sesnkMg7U-"
      }
    },
    {
      "cell_type": "code",
      "source": [
        "monthly_counts = df_filtered['month_start'].value_counts().sort_index()\n",
        "plt.figure(figsize=(8, 4))\n",
        "monthly_counts.plot(kind='bar')\n",
        "plt.xlabel('Month')\n",
        "plt.ylabel('Number of Tax Receipts')\n",
        "plt.title('Poll Tax Receipt Counts by Month')\n",
        "plt.show()"
      ],
      "metadata": {
        "colab": {
          "base_uri": "https://localhost:8080/",
          "height": 427
        },
        "id": "8WrJHTjJhLcz",
        "outputId": "b0057e8c-0227-4573-dc21-a9667c36c77e"
      },
      "execution_count": 4,
      "outputs": [
        {
          "output_type": "display_data",
          "data": {
            "text/plain": [
              "<Figure size 800x400 with 1 Axes>"
            ],
            "image/png": "[encoded data removed]"
          },
          "metadata": {}
        }
      ]
    },
    {
      "cell_type": "markdown",
      "source": [
        "August clearly has the most receipts."
      ],
      "metadata": {
        "id": "xZl0faPyKAwP"
      }
    },
    {
      "cell_type": "code",
      "source": [
        "total_receipts = monthly_counts.sum()\n",
        "expected_freq = [total_receipts / 12] * 12\n",
        "print(\"Under null hypothesis we expext: \", expected_freq[0].round(), \" receipts across all months\")\n",
        "observed_freq = [monthly_counts.get(month, 0) for month in range(1, 13)]\n",
        "chi2_stat, p_value = chisquare(f_obs=observed_freq, f_exp=expected_freq)\n",
        "print(\"Chi-square:\", chi2_stat)\n",
        "print(\"P-value:\", p_value)"
      ],
      "metadata": {
        "colab": {
          "base_uri": "https://localhost:8080/",
          "height": 0
        },
        "id": "ha-v_RlDjKyy",
        "outputId": "2a160fcb-e68d-48bb-cb0c-654ce9c08d8d"
      },
      "execution_count": 5,
      "outputs": [
        {
          "output_type": "stream",
          "name": "stdout",
          "text": [
            "Under null hypothesis we expext:  13.0  receipts across all months\n",
            "Chi-square: 29.291139240506332\n",
            "P-value: 0.002045339459068769\n"
          ]
        }
      ]
    },
    {
      "cell_type": "markdown",
      "source": [
        "We obtain a p-value of approximately 0.002, which is below the significance level of 0.05, and therefore we reject the null hypothesis. This provides strong evidence against the idea that poll tax payments were made randomly throughout the year.\n",
        "\n",
        "Having established that the tax was likely paid during specific periods, we next test whether it was concentrated in the fall months—September, October, and November (months 9, 10, and 11)—as proposed in our initial hypothesis. Our null hypothesis is that 25% of all receipts fall within the fall months and 75% within the non-fall months, assuming a uniform distribution. The alternative hypothesis is that a significantly higher proportion of receipts are concentrated in the fall, suggesting that this was the primary period for poll tax payment."
      ],
      "metadata": {
        "id": "-h-hh8bKkCvo"
      }
    },
    {
      "cell_type": "code",
      "source": [
        "df_filtered['is_fall'] = df_filtered['month_start'].isin([9, 10, 11])\n",
        "fall_count = df_filtered['is_fall'].sum()\n",
        "non_fall_count = len(df_filtered) - fall_count\n",
        "observed = [fall_count, non_fall_count]\n",
        "total_receipts = len(df_filtered)\n",
        "expected = [total_receipts * 0.25, total_receipts * 0.75]\n",
        "chi2_stat, p_value = chisquare(f_obs=observed, f_exp=expected)\n",
        "print(\"Chi-square statistic:\", chi2_stat)\n",
        "print(\"P-value:\", p_value)"
      ],
      "metadata": {
        "colab": {
          "base_uri": "https://localhost:8080/",
          "height": 0
        },
        "id": "zx1tk0welDSF",
        "outputId": "d5ed18d2-ca14-4e1a-9479-6070242130d7"
      },
      "execution_count": 6,
      "outputs": [
        {
          "output_type": "stream",
          "name": "stdout",
          "text": [
            "Chi-square statistic: 0.008438818565400843\n",
            "P-value: 0.9268068551245274\n"
          ]
        }
      ]
    },
    {
      "cell_type": "markdown",
      "source": [
        "The p-value is very high—well above our alpha level of 0.05—so we fail to reject the null hypothesis. In fact, the high P-value suggests that the proportion of receipts in the fall months is almost exactly what we would expect under a uniform distribution (25% in fall, 75% in non-fall months). Therefore, there is no evidence to suggest that the poll tax was paid specifically during the fall months."
      ],
      "metadata": {
        "id": "SgMdkuAKlbQo"
      }
    },
    {
      "cell_type": "markdown",
      "source": [
        "We perform the same test on July, August and September."
      ],
      "metadata": {
        "id": "vjarfGF4mbFY"
      }
    },
    {
      "cell_type": "code",
      "source": [
        "df_filtered['jas'] = df_filtered['month_start'].isin([7, 8, 9])\n",
        "jas_count = df_filtered['jas'].sum()\n",
        "non_jas_count = len(df_filtered) - jas_count\n",
        "observed = [jas_count, non_jas_count]\n",
        "total_receipts = len(df_filtered)\n",
        "expected = [total_receipts * 0.25, total_receipts * 0.75]\n",
        "chi2_stat, p_value = chisquare(f_obs=observed, f_exp=expected)\n",
        "print(\"Chi-square statistic:\", chi2_stat)\n",
        "print(\"P-value:\", p_value)"
      ],
      "metadata": {
        "colab": {
          "base_uri": "https://localhost:8080/",
          "height": 0
        },
        "id": "l3GSNottmk_I",
        "outputId": "7c212318-c0f5-493a-c339-0c5b1185c5b3"
      },
      "execution_count": 7,
      "outputs": [
        {
          "output_type": "stream",
          "name": "stdout",
          "text": [
            "Chi-square statistic: 17.088607594936708\n",
            "P-value: 3.5675668122074904e-05\n"
          ]
        }
      ]
    },
    {
      "cell_type": "markdown",
      "source": [
        "Given a p-value well below 0.05, we reject the null hypothesis. There is strong evidence suggesting that the poll tax was paid primarily during late summer and early fall—specifically in July, August, and September."
      ],
      "metadata": {
        "id": "5-GAVc6tmxy4"
      }
    },
    {
      "cell_type": "markdown",
      "source": [
        "Next, we test the second hypothesis. We divide the data into 25-year intervals and perform the same Chi-square test, where the null hypothesis is that the distribution of poll tax payments across the months does not differ by period. The alternative hypothesis is that the distribution does differ over time. We use the same siginificance level of 0.05."
      ],
      "metadata": {
        "id": "BBKcke7UofZB"
      }
    },
    {
      "cell_type": "code",
      "source": [
        "def label_subperiod(row):\n",
        "    year = row['year_start']\n",
        "    if year >= 1 and year <= 50:\n",
        "        return \"1 CE - 50 CE\"\n",
        "    elif year >= 51 and year <= 100:\n",
        "        return \"51 CE - 100 CE\"\n",
        "    elif year >= 101 and year <= 150:\n",
        "        return \"101 CE - 150 CE\"\n",
        "    elif year >= 151 and year <= 200:\n",
        "        return \"151 CE - 200 CE\"\n",
        "    else:\n",
        "        return np.nan\n",
        "\n",
        "df_filtered['sub_period'] = df_filtered.apply(label_subperiod, axis=1)\n",
        "df_sub = df_filtered.dropna(subset=['sub_period'])\n",
        "crosstab = pd.crosstab(df_sub['sub_period'], df_sub['month_start'])\n",
        "chi2_stat, p_value, dof, expected = chi2_contingency(crosstab)\n",
        "print(\"Chi-square statistic:\", chi2_stat)\n",
        "print(\"P-value:\", p_value)"
      ],
      "metadata": {
        "colab": {
          "base_uri": "https://localhost:8080/",
          "height": 0
        },
        "id": "-7NqMeJGo99f",
        "outputId": "341de5aa-cbe8-43ff-90ca-ab1f4d270dbb"
      },
      "execution_count": 8,
      "outputs": [
        {
          "output_type": "stream",
          "name": "stdout",
          "text": [
            "Chi-square statistic: 35.77867633592461\n",
            "P-value: 0.33925518176804564\n"
          ]
        }
      ]
    },
    {
      "cell_type": "markdown",
      "source": [
        "The p-value is above our alpha level of 0.05, which means we fail to reject the null hypothesis. Notably, this does not prove that the timing of tax payments remained exactly the same throughout the period. However, a p-value of 0.34 indicates that there is no strong statistical evidence to suggest a significant change. Therefore, we conclude that the timing of poll tax payments (i.e., the month in which they were paid) remained relatively consistent from 50 BCE to 250 CE."
      ],
      "metadata": {
        "id": "WEVcw2I4pKfd"
      }
    }
  ]
}